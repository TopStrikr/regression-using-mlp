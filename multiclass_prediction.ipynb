{
  "metadata": {
    "kernelspec": {
      "language": "python",
      "display_name": "Python 3",
      "name": "python3"
    },
    "language_info": {
      "name": "python",
      "version": "3.10.14",
      "mimetype": "text/x-python",
      "codemirror_mode": {
        "name": "ipython",
        "version": 3
      },
      "pygments_lexer": "ipython3",
      "nbconvert_exporter": "python",
      "file_extension": ".py"
    },
    "kaggle": {
      "accelerator": "none",
      "dataSources": [],
      "dockerImageVersionId": 30804,
      "isInternetEnabled": true,
      "language": "python",
      "sourceType": "notebook",
      "isGpuEnabled": false
    },
    "colab": {
      "name": "multiclass prediction",
      "provenance": []
    }
  },
  "nbformat_minor": 0,
  "nbformat": 4,
  "cells": [
    {
      "cell_type": "code",
      "source": [
        "# This Python 3 environment comes with many helpful analytics libraries installed\n",
        "# It is defined by the kaggle/python Docker image: https://github.com/kaggle/docker-python\n",
        "# For example, here's several helpful packages to load\n",
        "\n",
        "import numpy as np # linear algebra\n",
        "import pandas as pd # data processing, CSV file I/O (e.g. pd.read_csv)\n",
        "\n",
        "# Input data files are available in the read-only \"../input/\" directory\n",
        "# For example, running this (by clicking run or pressing Shift+Enter) will list all files under the input directory\n",
        "\n",
        "import os\n",
        "for dirname, _, filenames in os.walk('/kaggle/input'):\n",
        "    for filename in filenames:\n",
        "        print(os.path.join(dirname, filename))\n",
        "\n",
        "# You can write up to 20GB to the current directory (/kaggle/working/) that gets preserved as output when you create a version using \"Save & Run All\"\n",
        "# You can also write temporary files to /kaggle/temp/, but they won't be saved outside of the current session"
      ],
      "metadata": {
        "_uuid": "8f2839f25d086af736a60e9eeb907d3b93b6e0e5",
        "_cell_guid": "b1076dfc-b9ad-4769-8c92-a6c4dae69d19",
        "trusted": true,
        "execution": {
          "iopub.status.busy": "2024-12-11T07:05:47.273344Z",
          "iopub.execute_input": "2024-12-11T07:05:47.273732Z",
          "iopub.status.idle": "2024-12-11T07:05:47.676155Z",
          "shell.execute_reply.started": "2024-12-11T07:05:47.273698Z",
          "shell.execute_reply": "2024-12-11T07:05:47.674895Z"
        },
        "id": "5xS35sxK04hA"
      },
      "outputs": [],
      "execution_count": null
    },
    {
      "cell_type": "code",
      "source": [
        "import tensorflow\n",
        "from tensorflow import keras\n",
        "from tensorflow.keras import Sequential\n",
        "from tensorflow.keras.layers import Dense"
      ],
      "metadata": {
        "trusted": true,
        "execution": {
          "iopub.status.busy": "2024-12-11T07:05:47.790203Z",
          "iopub.execute_input": "2024-12-11T07:05:47.790884Z",
          "iopub.status.idle": "2024-12-11T07:06:01.989133Z",
          "shell.execute_reply.started": "2024-12-11T07:05:47.790835Z",
          "shell.execute_reply": "2024-12-11T07:06:01.987524Z"
        },
        "id": "EzGERJs004hD"
      },
      "outputs": [],
      "execution_count": null
    },
    {
      "cell_type": "code",
      "source": [
        "(x_train,y_train),(x_test,y_test)=keras.datasets.mnist.load_data()"
      ],
      "metadata": {
        "trusted": true,
        "execution": {
          "iopub.status.busy": "2024-12-11T07:06:01.991328Z",
          "iopub.execute_input": "2024-12-11T07:06:01.99216Z",
          "iopub.status.idle": "2024-12-11T07:06:03.363191Z",
          "shell.execute_reply.started": "2024-12-11T07:06:01.992115Z",
          "shell.execute_reply": "2024-12-11T07:06:03.36178Z"
        },
        "id": "HyxTN6JS04hD",
        "outputId": "b2ef1268-f363-4795-df4c-4f55a7da6c57"
      },
      "outputs": [
        {
          "name": "stdout",
          "text": "Downloading data from https://storage.googleapis.com/tensorflow/tf-keras-datasets/mnist.npz\n\u001b[1m11490434/11490434\u001b[0m \u001b[32m━━━━━━━━━━━━━━━━━━━━\u001b[0m\u001b[37m\u001b[0m \u001b[1m1s\u001b[0m 0us/step\n",
          "output_type": "stream"
        }
      ],
      "execution_count": null
    },
    {
      "cell_type": "code",
      "source": [
        "x_train=x_train/255\n",
        "x_test=x_test/255"
      ],
      "metadata": {
        "trusted": true,
        "execution": {
          "iopub.status.busy": "2024-12-11T07:06:03.364807Z",
          "iopub.execute_input": "2024-12-11T07:06:03.365302Z",
          "iopub.status.idle": "2024-12-11T07:06:03.566158Z",
          "shell.execute_reply.started": "2024-12-11T07:06:03.365253Z",
          "shell.execute_reply": "2024-12-11T07:06:03.565021Z"
        },
        "id": "DdDDHK3R04hE"
      },
      "outputs": [],
      "execution_count": null
    },
    {
      "cell_type": "code",
      "source": [
        "import matplotlib.pyplot as plt"
      ],
      "metadata": {
        "trusted": true,
        "execution": {
          "iopub.status.busy": "2024-12-11T07:06:03.569214Z",
          "iopub.execute_input": "2024-12-11T07:06:03.569709Z",
          "iopub.status.idle": "2024-12-11T07:06:03.575594Z",
          "shell.execute_reply.started": "2024-12-11T07:06:03.56965Z",
          "shell.execute_reply": "2024-12-11T07:06:03.574402Z"
        },
        "id": "XKRftBkJ04hE"
      },
      "outputs": [],
      "execution_count": null
    },
    {
      "cell_type": "code",
      "source": [
        "plt.imshow(x_train[0])"
      ],
      "metadata": {
        "trusted": true,
        "execution": {
          "iopub.status.busy": "2024-12-11T07:06:03.577231Z",
          "iopub.execute_input": "2024-12-11T07:06:03.577693Z",
          "iopub.status.idle": "2024-12-11T07:06:03.82262Z",
          "shell.execute_reply.started": "2024-12-11T07:06:03.577645Z",
          "shell.execute_reply": "2024-12-11T07:06:03.821075Z"
        },
        "id": "0P9PERCj04hE",
        "outputId": "c0984f74-70d5-4f7c-8ab2-25135272e47f"
      },
      "outputs": [
        {
          "execution_count": 7,
          "output_type": "execute_result",
          "data": {
            "text/plain": "<matplotlib.image.AxesImage at 0x7d3c63d1d600>"
          },
          "metadata": {}
        },
        {
          "output_type": "display_data",
          "data": {
            "text/plain": "<Figure size 640x480 with 1 Axes>",
            "image/png": "[encoded data removed]"
          },
          "metadata": {}
        }
      ],
      "execution_count": null
    },
    {
      "cell_type": "code",
      "source": [
        "from tensorflow.keras.layers import Dense,Flatten"
      ],
      "metadata": {
        "trusted": true,
        "execution": {
          "iopub.status.busy": "2024-12-11T07:06:03.824313Z",
          "iopub.execute_input": "2024-12-11T07:06:03.824801Z",
          "iopub.status.idle": "2024-12-11T07:06:03.830612Z",
          "shell.execute_reply.started": "2024-12-11T07:06:03.824751Z",
          "shell.execute_reply": "2024-12-11T07:06:03.829471Z"
        },
        "id": "OCM1O62u04hE"
      },
      "outputs": [],
      "execution_count": null
    },
    {
      "cell_type": "code",
      "source": [
        "model=Sequential()\n",
        "model.add(Flatten(input_shape=(28,28)))\n",
        "model.add(Dense(128,activation='relu'))\n",
        "model.add(Dense(10,activation='softmax'))"
      ],
      "metadata": {
        "trusted": true,
        "execution": {
          "iopub.status.busy": "2024-12-11T07:06:03.832187Z",
          "iopub.execute_input": "2024-12-11T07:06:03.83258Z",
          "iopub.status.idle": "2024-12-11T07:06:03.933985Z",
          "shell.execute_reply.started": "2024-12-11T07:06:03.832545Z",
          "shell.execute_reply": "2024-12-11T07:06:03.932922Z"
        },
        "id": "_TegaiUv04hF",
        "outputId": "99168cd6-0522-44ed-ca2d-d7121c674e1b"
      },
      "outputs": [
        {
          "name": "stderr",
          "text": "/opt/conda/lib/python3.10/site-packages/keras/src/layers/reshaping/flatten.py:37: UserWarning: Do not pass an `input_shape`/`input_dim` argument to a layer. When using Sequential models, prefer using an `Input(shape)` object as the first layer in the model instead.\n  super().__init__(**kwargs)\n",
          "output_type": "stream"
        }
      ],
      "execution_count": null
    },
    {
      "cell_type": "code",
      "source": [
        "model.summary()"
      ],
      "metadata": {
        "trusted": true,
        "execution": {
          "iopub.status.busy": "2024-12-11T07:06:03.935295Z",
          "iopub.execute_input": "2024-12-11T07:06:03.935617Z",
          "iopub.status.idle": "2024-12-11T07:06:03.956446Z",
          "shell.execute_reply.started": "2024-12-11T07:06:03.935585Z",
          "shell.execute_reply": "2024-12-11T07:06:03.955209Z"
        },
        "id": "YU44YlZn04hF",
        "outputId": "caebbf05-4a66-46d5-bcff-9a4f57228437"
      },
      "outputs": [
        {
          "output_type": "display_data",
          "data": {
            "text/plain": "\u001b[1mModel: \"sequential\"\u001b[0m\n",
            "text/html": "<pre style=\"white-space:pre;overflow-x:auto;line-height:normal;font-family:Menlo,'DejaVu Sans Mono',consolas,'Courier New',monospace\"><span style=\"font-weight: bold\">Model: \"sequential\"</span>\n</pre>\n"
          },
          "metadata": {}
        },
        {
          "output_type": "display_data",
          "data": {
            "text/plain": "┏━━━━━━━━━━━━━━━━━━━━━━━━━━━━━━━━━┳━━━━━━━━━━━━━━━━━━━━━━━━┳━━━━━━━━━━━━━━━┓\n┃\u001b[1m \u001b[0m\u001b[1mLayer (type)                   \u001b[0m\u001b[1m \u001b[0m┃\u001b[1m \u001b[0m\u001b[1mOutput Shape          \u001b[0m\u001b[1m \u001b[0m┃\u001b[1m \u001b[0m\u001b[1m      Param #\u001b[0m\u001b[1m \u001b[0m┃\n┡━━━━━━━━━━━━━━━━━━━━━━━━━━━━━━━━━╇━━━━━━━━━━━━━━━━━━━━━━━━╇━━━━━━━━━━━━━━━┩\n│ flatten (\u001b[38;5;33mFlatten\u001b[0m)               │ (\u001b[38;5;45mNone\u001b[0m, \u001b[38;5;34m784\u001b[0m)            │             \u001b[38;5;34m0\u001b[0m │\n├─────────────────────────────────┼────────────────────────┼───────────────┤\n│ dense (\u001b[38;5;33mDense\u001b[0m)                   │ (\u001b[38;5;45mNone\u001b[0m, \u001b[38;5;34m128\u001b[0m)            │       \u001b[38;5;34m100,480\u001b[0m │\n├─────────────────────────────────┼────────────────────────┼───────────────┤\n│ dense_1 (\u001b[38;5;33mDense\u001b[0m)                 │ (\u001b[38;5;45mNone\u001b[0m, \u001b[38;5;34m10\u001b[0m)             │         \u001b[38;5;34m1,290\u001b[0m │\n└─────────────────────────────────┴────────────────────────┴───────────────┘\n",
            "text/html": "<pre style=\"white-space:pre;overflow-x:auto;line-height:normal;font-family:Menlo,'DejaVu Sans Mono',consolas,'Courier New',monospace\">┏━━━━━━━━━━━━━━━━━━━━━━━━━━━━━━━━━┳━━━━━━━━━━━━━━━━━━━━━━━━┳━━━━━━━━━━━━━━━┓\n┃<span style=\"font-weight: bold\"> Layer (type)                    </span>┃<span style=\"font-weight: bold\"> Output Shape           </span>┃<span style=\"font-weight: bold\">       Param # </span>┃\n┡━━━━━━━━━━━━━━━━━━━━━━━━━━━━━━━━━╇━━━━━━━━━━━━━━━━━━━━━━━━╇━━━━━━━━━━━━━━━┩\n│ flatten (<span style=\"color: #0087ff; text-decoration-color: #0087ff\">Flatten</span>)               │ (<span style=\"color: #00d7ff; text-decoration-color: #00d7ff\">None</span>, <span style=\"color: #00af00; text-decoration-color: #00af00\">784</span>)            │             <span style=\"color: #00af00; text-decoration-color: #00af00\">0</span> │\n├─────────────────────────────────┼────────────────────────┼───────────────┤\n│ dense (<span style=\"color: #0087ff; text-decoration-color: #0087ff\">Dense</span>)                   │ (<span style=\"color: #00d7ff; text-decoration-color: #00d7ff\">None</span>, <span style=\"color: #00af00; text-decoration-color: #00af00\">128</span>)            │       <span style=\"color: #00af00; text-decoration-color: #00af00\">100,480</span> │\n├─────────────────────────────────┼────────────────────────┼───────────────┤\n│ dense_1 (<span style=\"color: #0087ff; text-decoration-color: #0087ff\">Dense</span>)                 │ (<span style=\"color: #00d7ff; text-decoration-color: #00d7ff\">None</span>, <span style=\"color: #00af00; text-decoration-color: #00af00\">10</span>)             │         <span style=\"color: #00af00; text-decoration-color: #00af00\">1,290</span> │\n└─────────────────────────────────┴────────────────────────┴───────────────┘\n</pre>\n"
          },
          "metadata": {}
        },
        {
          "output_type": "display_data",
          "data": {
            "text/plain": "\u001b[1m Total params: \u001b[0m\u001b[38;5;34m101,770\u001b[0m (397.54 KB)\n",
            "text/html": "<pre style=\"white-space:pre;overflow-x:auto;line-height:normal;font-family:Menlo,'DejaVu Sans Mono',consolas,'Courier New',monospace\"><span style=\"font-weight: bold\"> Total params: </span><span style=\"color: #00af00; text-decoration-color: #00af00\">101,770</span> (397.54 KB)\n</pre>\n"
          },
          "metadata": {}
        },
        {
          "output_type": "display_data",
          "data": {
            "text/plain": "\u001b[1m Trainable params: \u001b[0m\u001b[38;5;34m101,770\u001b[0m (397.54 KB)\n",
            "text/html": "<pre style=\"white-space:pre;overflow-x:auto;line-height:normal;font-family:Menlo,'DejaVu Sans Mono',consolas,'Courier New',monospace\"><span style=\"font-weight: bold\"> Trainable params: </span><span style=\"color: #00af00; text-decoration-color: #00af00\">101,770</span> (397.54 KB)\n</pre>\n"
          },
          "metadata": {}
        },
        {
          "output_type": "display_data",
          "data": {
            "text/plain": "\u001b[1m Non-trainable params: \u001b[0m\u001b[38;5;34m0\u001b[0m (0.00 B)\n",
            "text/html": "<pre style=\"white-space:pre;overflow-x:auto;line-height:normal;font-family:Menlo,'DejaVu Sans Mono',consolas,'Courier New',monospace\"><span style=\"font-weight: bold\"> Non-trainable params: </span><span style=\"color: #00af00; text-decoration-color: #00af00\">0</span> (0.00 B)\n</pre>\n"
          },
          "metadata": {}
        }
      ],
      "execution_count": null
    },
    {
      "cell_type": "code",
      "source": [
        "model.compile(loss='sparse_categorical_crossentropy',optimizer='Adam',metrics=['accuracy'])"
      ],
      "metadata": {
        "trusted": true,
        "execution": {
          "iopub.status.busy": "2024-12-11T07:06:03.957681Z",
          "iopub.execute_input": "2024-12-11T07:06:03.95803Z",
          "iopub.status.idle": "2024-12-11T07:06:03.976189Z",
          "shell.execute_reply.started": "2024-12-11T07:06:03.957968Z",
          "shell.execute_reply": "2024-12-11T07:06:03.974952Z"
        },
        "id": "HCiSdZDJ04hF"
      },
      "outputs": [],
      "execution_count": null
    },
    {
      "cell_type": "code",
      "source": [
        "hist=model.fit(x_train,y_train,epochs=10,validation_split=0.2)"
      ],
      "metadata": {
        "trusted": true,
        "execution": {
          "iopub.status.busy": "2024-12-11T07:08:56.724926Z",
          "iopub.execute_input": "2024-12-11T07:08:56.72572Z",
          "iopub.status.idle": "2024-12-11T07:09:45.776248Z",
          "shell.execute_reply.started": "2024-12-11T07:08:56.725677Z",
          "shell.execute_reply": "2024-12-11T07:09:45.775015Z"
        },
        "id": "mzX6QE1r04hF",
        "outputId": "5adcba13-af1a-4d45-a0b9-1118f07f1ff5"
      },
      "outputs": [
        {
          "name": "stdout",
          "text": "Epoch 1/10\n\u001b[1m1500/1500\u001b[0m \u001b[32m━━━━━━━━━━━━━━━━━━━━\u001b[0m\u001b[37m\u001b[0m \u001b[1m6s\u001b[0m 3ms/step - accuracy: 0.8678 - loss: 0.4750 - val_accuracy: 0.9562 - val_loss: 0.1512\nEpoch 2/10\n\u001b[1m1500/1500\u001b[0m \u001b[32m━━━━━━━━━━━━━━━━━━━━\u001b[0m\u001b[37m\u001b[0m \u001b[1m4s\u001b[0m 3ms/step - accuracy: 0.9590 - loss: 0.1396 - val_accuracy: 0.9664 - val_loss: 0.1145\nEpoch 3/10\n\u001b[1m1500/1500\u001b[0m \u001b[32m━━━━━━━━━━━━━━━━━━━━\u001b[0m\u001b[37m\u001b[0m \u001b[1m4s\u001b[0m 3ms/step - accuracy: 0.9749 - loss: 0.0892 - val_accuracy: 0.9696 - val_loss: 0.1042\nEpoch 4/10\n\u001b[1m1500/1500\u001b[0m \u001b[32m━━━━━━━━━━━━━━━━━━━━\u001b[0m\u001b[37m\u001b[0m \u001b[1m5s\u001b[0m 3ms/step - accuracy: 0.9805 - loss: 0.0648 - val_accuracy: 0.9736 - val_loss: 0.0893\nEpoch 5/10\n\u001b[1m1500/1500\u001b[0m \u001b[32m━━━━━━━━━━━━━━━━━━━━\u001b[0m\u001b[37m\u001b[0m \u001b[1m5s\u001b[0m 3ms/step - accuracy: 0.9857 - loss: 0.0486 - val_accuracy: 0.9753 - val_loss: 0.0872\nEpoch 6/10\n\u001b[1m1500/1500\u001b[0m \u001b[32m━━━━━━━━━━━━━━━━━━━━\u001b[0m\u001b[37m\u001b[0m \u001b[1m5s\u001b[0m 3ms/step - accuracy: 0.9900 - loss: 0.0358 - val_accuracy: 0.9724 - val_loss: 0.0952\nEpoch 7/10\n\u001b[1m1500/1500\u001b[0m \u001b[32m━━━━━━━━━━━━━━━━━━━━\u001b[0m\u001b[37m\u001b[0m \u001b[1m5s\u001b[0m 3ms/step - accuracy: 0.9913 - loss: 0.0289 - val_accuracy: 0.9707 - val_loss: 0.0988\nEpoch 8/10\n\u001b[1m1500/1500\u001b[0m \u001b[32m━━━━━━━━━━━━━━━━━━━━\u001b[0m\u001b[37m\u001b[0m \u001b[1m5s\u001b[0m 3ms/step - accuracy: 0.9945 - loss: 0.0223 - val_accuracy: 0.9749 - val_loss: 0.0930\nEpoch 9/10\n\u001b[1m1500/1500\u001b[0m \u001b[32m━━━━━━━━━━━━━━━━━━━━\u001b[0m\u001b[37m\u001b[0m \u001b[1m5s\u001b[0m 3ms/step - accuracy: 0.9946 - loss: 0.0182 - val_accuracy: 0.9752 - val_loss: 0.0908\nEpoch 10/10\n\u001b[1m1500/1500\u001b[0m \u001b[32m━━━━━━━━━━━━━━━━━━━━\u001b[0m\u001b[37m\u001b[0m \u001b[1m5s\u001b[0m 3ms/step - accuracy: 0.9956 - loss: 0.0150 - val_accuracy: 0.9772 - val_loss: 0.0866\n",
          "output_type": "stream"
        }
      ],
      "execution_count": null
    },
    {
      "cell_type": "code",
      "source": [
        "y_prob=model.predict(x_test)"
      ],
      "metadata": {
        "trusted": true,
        "execution": {
          "iopub.status.busy": "2024-12-11T07:18:39.936269Z",
          "iopub.execute_input": "2024-12-11T07:18:39.937478Z",
          "iopub.status.idle": "2024-12-11T07:18:40.698198Z",
          "shell.execute_reply.started": "2024-12-11T07:18:39.937436Z",
          "shell.execute_reply": "2024-12-11T07:18:40.697016Z"
        },
        "id": "lywFydMr04hG",
        "outputId": "711d462a-f2fe-4974-c05b-6412c3cf7764"
      },
      "outputs": [
        {
          "name": "stdout",
          "text": "\u001b[1m313/313\u001b[0m \u001b[32m━━━━━━━━━━━━━━━━━━━━\u001b[0m\u001b[37m\u001b[0m \u001b[1m1s\u001b[0m 1ms/step\n",
          "output_type": "stream"
        }
      ],
      "execution_count": null
    },
    {
      "cell_type": "code",
      "source": [
        "y_prob"
      ],
      "metadata": {
        "trusted": true,
        "execution": {
          "iopub.status.busy": "2024-12-11T07:18:45.95132Z",
          "iopub.execute_input": "2024-12-11T07:18:45.951734Z",
          "iopub.status.idle": "2024-12-11T07:18:45.960249Z",
          "shell.execute_reply.started": "2024-12-11T07:18:45.951695Z",
          "shell.execute_reply": "2024-12-11T07:18:45.959086Z"
        },
        "id": "Gn_Qgne904hG",
        "outputId": "5c467951-f4f3-4d3a-b096-0aa571720a82"
      },
      "outputs": [
        {
          "execution_count": 14,
          "output_type": "execute_result",
          "data": {
            "text/plain": "array([[3.4795034e-10, 5.4737583e-09, 1.9051711e-06, ..., 9.9948496e-01,\n        8.9373880e-06, 5.0718714e-05],\n       [1.2505798e-12, 8.6336037e-08, 9.9999970e-01, ..., 1.9836639e-19,\n        1.3286488e-07, 3.6543963e-18],\n       [1.4020569e-06, 9.9931866e-01, 3.2507561e-04, ..., 2.9218882e-05,\n        3.2157681e-04, 2.1475611e-08],\n       ...,\n       [8.5192499e-16, 1.9755520e-11, 3.0347494e-15, ..., 3.2868192e-07,\n        2.7167417e-09, 1.0040474e-06],\n       [2.0002177e-11, 4.6853389e-16, 3.0663081e-13, ..., 7.5190467e-13,\n        2.3476007e-06, 9.9678363e-15],\n       [2.8298513e-11, 1.0802846e-15, 5.7918188e-12, ..., 4.0929921e-20,\n        5.5323476e-13, 5.3489965e-14]], dtype=float32)"
          },
          "metadata": {}
        }
      ],
      "execution_count": null
    },
    {
      "cell_type": "code",
      "source": [
        "y_pred=y_prob.argmax(axis=1)"
      ],
      "metadata": {
        "trusted": true,
        "execution": {
          "iopub.status.busy": "2024-12-11T07:20:35.625884Z",
          "iopub.execute_input": "2024-12-11T07:20:35.626904Z",
          "iopub.status.idle": "2024-12-11T07:20:35.632094Z",
          "shell.execute_reply.started": "2024-12-11T07:20:35.626861Z",
          "shell.execute_reply": "2024-12-11T07:20:35.630602Z"
        },
        "id": "9Sq2wS-m04hG"
      },
      "outputs": [],
      "execution_count": null
    },
    {
      "cell_type": "code",
      "source": [
        "y_pred"
      ],
      "metadata": {
        "trusted": true,
        "execution": {
          "iopub.status.busy": "2024-12-11T07:20:44.269566Z",
          "iopub.execute_input": "2024-12-11T07:20:44.269969Z",
          "iopub.status.idle": "2024-12-11T07:20:44.277597Z",
          "shell.execute_reply.started": "2024-12-11T07:20:44.269933Z",
          "shell.execute_reply": "2024-12-11T07:20:44.27621Z"
        },
        "id": "Y9pQjswr04hG",
        "outputId": "65d8ded1-4c2d-4cc4-a896-82791cef2c46"
      },
      "outputs": [
        {
          "execution_count": 16,
          "output_type": "execute_result",
          "data": {
            "text/plain": "array([7, 2, 1, ..., 4, 5, 6])"
          },
          "metadata": {}
        }
      ],
      "execution_count": null
    },
    {
      "cell_type": "code",
      "source": [
        "from sklearn.metrics import accuracy_score"
      ],
      "metadata": {
        "trusted": true,
        "execution": {
          "iopub.status.busy": "2024-12-11T07:22:27.891237Z",
          "iopub.execute_input": "2024-12-11T07:22:27.891692Z",
          "iopub.status.idle": "2024-12-11T07:22:28.323327Z",
          "shell.execute_reply.started": "2024-12-11T07:22:27.891653Z",
          "shell.execute_reply": "2024-12-11T07:22:28.32121Z"
        },
        "id": "oCK-64wj04hG"
      },
      "outputs": [],
      "execution_count": null
    },
    {
      "cell_type": "code",
      "source": [
        "accuracy_score(y_test,y_pred)"
      ],
      "metadata": {
        "trusted": true,
        "execution": {
          "iopub.status.busy": "2024-12-11T07:23:17.066188Z",
          "iopub.execute_input": "2024-12-11T07:23:17.067371Z",
          "iopub.status.idle": "2024-12-11T07:23:17.077882Z",
          "shell.execute_reply.started": "2024-12-11T07:23:17.067313Z",
          "shell.execute_reply": "2024-12-11T07:23:17.076546Z"
        },
        "id": "BkHx0hkj04hG",
        "outputId": "20f19756-2be8-4ef8-d927-a3044ad5429e"
      },
      "outputs": [
        {
          "execution_count": 18,
          "output_type": "execute_result",
          "data": {
            "text/plain": "0.9788"
          },
          "metadata": {}
        }
      ],
      "execution_count": null
    },
    {
      "cell_type": "code",
      "source": [
        "plt.plot(hist.history['accuracy'])"
      ],
      "metadata": {
        "trusted": true,
        "execution": {
          "iopub.status.busy": "2024-12-11T07:26:34.736484Z",
          "iopub.execute_input": "2024-12-11T07:26:34.736957Z",
          "iopub.status.idle": "2024-12-11T07:26:34.972195Z",
          "shell.execute_reply.started": "2024-12-11T07:26:34.736919Z",
          "shell.execute_reply": "2024-12-11T07:26:34.970909Z"
        },
        "id": "uqe_xcYe04hG",
        "outputId": "516fecb5-b30c-4a86-d0f5-f2a97d1964fe"
      },
      "outputs": [
        {
          "execution_count": 19,
          "output_type": "execute_result",
          "data": {
            "text/plain": "[<matplotlib.lines.Line2D at 0x7d3c19c16770>]"
          },
          "metadata": {}
        },
        {
          "output_type": "display_data",
          "data": {
            "text/plain": "<Figure size 640x480 with 1 Axes>",
            "image/png": "[encoded data removed]"
          },
          "metadata": {}
        }
      ],
      "execution_count": null
    },
    {
      "cell_type": "code",
      "source": [
        "plt.plot(hist.history['val_accuracy'])"
      ],
      "metadata": {
        "trusted": true,
        "execution": {
          "iopub.status.busy": "2024-12-11T07:26:52.4617Z",
          "iopub.execute_input": "2024-12-11T07:26:52.462173Z",
          "iopub.status.idle": "2024-12-11T07:26:52.682331Z",
          "shell.execute_reply.started": "2024-12-11T07:26:52.462134Z",
          "shell.execute_reply": "2024-12-11T07:26:52.680907Z"
        },
        "id": "I-fj-d6904hG",
        "outputId": "066bc78e-395c-4f2d-b459-bfca33d9136a"
      },
      "outputs": [
        {
          "execution_count": 20,
          "output_type": "execute_result",
          "data": {
            "text/plain": "[<matplotlib.lines.Line2D at 0x7d3c197886d0>]"
          },
          "metadata": {}
        },
        {
          "output_type": "display_data",
          "data": {
            "text/plain": "<Figure size 640x480 with 1 Axes>",
            "image/png": "[encoded data removed]"
          },
          "metadata": {}
        }
      ],
      "execution_count": null
    },
    {
      "cell_type": "code",
      "source": [],
      "metadata": {
        "trusted": true,
        "id": "0b84J4lv04hG"
      },
      "outputs": [],
      "execution_count": null
    }
  ]
}